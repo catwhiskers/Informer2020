{
 "cells": [
  {
   "cell_type": "code",
   "execution_count": 19,
   "id": "fdc03a3c",
   "metadata": {},
   "outputs": [],
   "source": [
    "import boto3 \n",
    "\n",
    "my_session = boto3.session.Session()\n",
    "my_region = my_session.region_name\n",
    "client = boto3.client(\"sts\")\n",
    "account_id = client.get_caller_identity()[\"Account\"]\n",
    "algorithm_name = \"informer\""
   ]
  },
  {
   "cell_type": "code",
   "execution_count": 40,
   "id": "453c7f77",
   "metadata": {},
   "outputs": [
    {
     "name": "stdout",
     "output_type": "stream",
     "text": [
      "230755935769\n",
      "us-west-2\n",
      "WARNING! Using --password via the CLI is insecure. Use --password-stdin.\n",
      "WARNING! Your password will be stored unencrypted in /home/ec2-user/.docker/config.json.\n",
      "Configure a credential helper to remove this warning. See\n",
      "https://docs.docker.com/engine/reference/commandline/login/#credentials-store\n",
      "\n",
      "Login Succeeded\n",
      "WARNING! Using --password via the CLI is insecure. Use --password-stdin.\n",
      "WARNING! Your password will be stored unencrypted in /home/ec2-user/.docker/config.json.\n",
      "Configure a credential helper to remove this warning. See\n",
      "https://docs.docker.com/engine/reference/commandline/login/#credentials-store\n",
      "\n",
      "Login Succeeded\n",
      "base_img:763104351884.dkr.ecr.us-west-2.amazonaws.com/pytorch-training:1.7.1-gpu-py36-cu110-ubuntu18.04\n",
      "Sending build context to Docker daemon  388.3MB\n",
      "Step 1/7 : ARG BASE_IMG=${BASE_IMG}\n",
      "Step 2/7 : FROM ${BASE_IMG}\n",
      " ---> 910c070760f2\n",
      "Step 3/7 : ENV PATH=\"/opt/ml/code:${PATH}\"\n",
      " ---> Running in c4426cab78ce\n",
      "Removing intermediate container c4426cab78ce\n",
      " ---> 3f8f2df7d817\n",
      "Step 4/7 : WORKDIR /opt/program\n",
      " ---> Running in 8c3c6a17e242\n",
      "Removing intermediate container 8c3c6a17e242\n",
      " ---> 392d591c66cd\n",
      "Step 5/7 : RUN cp /changehostname.c /opt/program/\n",
      " ---> Running in 2acc5de0a3e0\n",
      "Removing intermediate container 2acc5de0a3e0\n",
      " ---> 677b668971d3\n",
      "Step 6/7 : COPY . /opt/program/\n",
      " ---> 8f5ae5ef32a4\n",
      "Step 7/7 : ENTRYPOINT [\"python\", \"informer_sm_entry.py\"]\n",
      " ---> Running in 57b507627d22\n",
      "Removing intermediate container 57b507627d22\n",
      " ---> 87b7254a0f3b\n",
      "Successfully built 87b7254a0f3b\n",
      "Successfully tagged informer:latest\n",
      "The push refers to repository [230755935769.dkr.ecr.us-west-2.amazonaws.com/informer]\n",
      "\n",
      "\u001b[1B27f474d8: Preparing \n",
      "\u001b[1B84debad3: Preparing \n",
      "\u001b[1B615fb1ec: Preparing \n",
      "\u001b[1B426c5cb3: Preparing \n",
      "\u001b[1Be81c04ac: Preparing \n",
      "\u001b[1Baa20b119: Preparing \n",
      "\u001b[1B62d7b191: Preparing \n",
      "\u001b[1B621c0763: Preparing \n",
      "\u001b[1B55e0088c: Preparing \n",
      "\u001b[1Bf702dd6c: Preparing \n",
      "\u001b[6Baa20b119: Waiting g \n",
      "\u001b[1Bb1eec580: Preparing \n",
      "\u001b[1B1d1bff9f: Preparing \n",
      "\u001b[8B62d7b191: Waiting g \n",
      "\u001b[1B355c3b7e: Preparing \n",
      "\u001b[1B1a00d0a6: Preparing \n",
      "\u001b[10B21c0763: Waiting g \n",
      "\u001b[9Bf702dd6c: Waiting g \n",
      "\u001b[1B8a030441: Preparing \n",
      "\u001b[12B5e0088c: Waiting g \n",
      "\u001b[11Bf900f31: Waiting g \n",
      "\u001b[1B1bae5d0c: Preparing \n",
      "\u001b[1Bce2a51ec: Preparing \n",
      "\u001b[1Ba9c23850: Preparing \n",
      "\u001b[14B1eec580: Waiting g \n",
      "\u001b[13Be98599b: Waiting g \n",
      "\u001b[15Bd1bff9f: Waiting g \n",
      "\u001b[9B0f52b878: Waiting g \n",
      "\u001b[14Ba00d0a6: Waiting g \n",
      "\u001b[14B1b6f753: Waiting g \n",
      "\u001b[9Bce2a51ec: Waiting g \n",
      "\u001b[8B0bcc6897: Waiting g \n",
      "\u001b[1Be116c0c0: Preparing \n",
      "\u001b[17B1ff6420: Waiting g \n",
      "\u001b[10Bdf6d5f2: Waiting g \n",
      "\u001b[36B7f474d8: Pushed   388.3MB/388.2MB1A\u001b[2K\u001b[35A\u001b[2K\u001b[26A\u001b[2K\u001b[36A\u001b[2K\u001b[22A\u001b[2K\u001b[36A\u001b[2K\u001b[19A\u001b[2K\u001b[34A\u001b[2K\u001b[35A\u001b[2K\u001b[12A\u001b[2K\u001b[8A\u001b[2K\u001b[3A\u001b[2K\u001b[36A\u001b[2K\u001b[36A\u001b[2K\u001b[36A\u001b[2K\u001b[36A\u001b[2K\u001b[36A\u001b[2K\u001b[36A\u001b[2K\u001b[36A\u001b[2K\u001b[36A\u001b[2K\u001b[36A\u001b[2K\u001b[36A\u001b[2K\u001b[36A\u001b[2K\u001b[36A\u001b[2K\u001b[36A\u001b[2K\u001b[36A\u001b[2K\u001b[36A\u001b[2K\u001b[36A\u001b[2K\u001b[36A\u001b[2K\u001b[36A\u001b[2K\u001b[36A\u001b[2K\u001b[36A\u001b[2K\u001b[36A\u001b[2K\u001b[36A\u001b[2K\u001b[36A\u001b[2K\u001b[36A\u001b[2K\u001b[36A\u001b[2K\u001b[36A\u001b[2K\u001b[36A\u001b[2K\u001b[36A\u001b[2K\u001b[36A\u001b[2K\u001b[36A\u001b[2K\u001b[36A\u001b[2K\u001b[36A\u001b[2K\u001b[36A\u001b[2K\u001b[36A\u001b[2K\u001b[36A\u001b[2K\u001b[36A\u001b[2K\u001b[36A\u001b[2K\u001b[36A\u001b[2K\u001b[36A\u001b[2K\u001b[36A\u001b[2K\u001b[36A\u001b[2K\u001b[36A\u001b[2K\u001b[36A\u001b[2K\u001b[36A\u001b[2K\u001b[36A\u001b[2K\u001b[36A\u001b[2K\u001b[36A\u001b[2K\u001b[36A\u001b[2K\u001b[36A\u001b[2K\u001b[36A\u001b[2K\u001b[36A\u001b[2K\u001b[36A\u001b[2K\u001b[36A\u001b[2K\u001b[36A\u001b[2K\u001b[36A\u001b[2K\u001b[36A\u001b[2K\u001b[36A\u001b[2K\u001b[36A\u001b[2K\u001b[36A\u001b[2K\u001b[36A\u001b[2K\u001b[36A\u001b[2K\u001b[36A\u001b[2K\u001b[36A\u001b[2K\u001b[36A\u001b[2K\u001b[36A\u001b[2K\u001b[36A\u001b[2K\u001b[36A\u001b[2K\u001b[36A\u001b[2K\u001b[36A\u001b[2K\u001b[36A\u001b[2K\u001b[36A\u001b[2K\u001b[36A\u001b[2K\u001b[36A\u001b[2K\u001b[36A\u001b[2K\u001b[36A\u001b[2K\u001b[36A\u001b[2K\u001b[36A\u001b[2K\u001b[36A\u001b[2K\u001b[36A\u001b[2K\u001b[36A\u001b[2K\u001b[36A\u001b[2K\u001b[36A\u001b[2K\u001b[36A\u001b[2K\u001b[36A\u001b[2K\u001b[36A\u001b[2K\u001b[36A\u001b[2K\u001b[36A\u001b[2K\u001b[36A\u001b[2K\u001b[36A\u001b[2K\u001b[36A\u001b[2K\u001b[36A\u001b[2K\u001b[36A\u001b[2K\u001b[36A\u001b[2K\u001b[36A\u001b[2K\u001b[36A\u001b[2K\u001b[36A\u001b[2K\u001b[36A\u001b[2K\u001b[36A\u001b[2K\u001b[36A\u001b[2K\u001b[36A\u001b[2K\u001b[36A\u001b[2K\u001b[36A\u001b[2K\u001b[36A\u001b[2K\u001b[36A\u001b[2K\u001b[36A\u001b[2K\u001b[36A\u001b[2K\u001b[36A\u001b[2K\u001b[36A\u001b[2K\u001b[36A\u001b[2K\u001b[36A\u001b[2K\u001b[36A\u001b[2K\u001b[36A\u001b[2K\u001b[36A\u001b[2K\u001b[36A\u001b[2K\u001b[36A\u001b[2K\u001b[36A\u001b[2K\u001b[36A\u001b[2K\u001b[36A\u001b[2K\u001b[36A\u001b[2K\u001b[36A\u001b[2K\u001b[36A\u001b[2K\u001b[36A\u001b[2K\u001b[36A\u001b[2K\u001b[36A\u001b[2K\u001b[36A\u001b[2K\u001b[36A\u001b[2K\u001b[36A\u001b[2K\u001b[36A\u001b[2K\u001b[36A\u001b[2K\u001b[36A\u001b[2K\u001b[36A\u001b[2K\u001b[36A\u001b[2K\u001b[36A\u001b[2K\u001b[36A\u001b[2K\u001b[36A\u001b[2K\u001b[36A\u001b[2K\u001b[36A\u001b[2K\u001b[36A\u001b[2K\u001b[36A\u001b[2K\u001b[36A\u001b[2K\u001b[36A\u001b[2K\u001b[36A\u001b[2K\u001b[36A\u001b[2K\u001b[36A\u001b[2K\u001b[36A\u001b[2K\u001b[36A\u001b[2K\u001b[36A\u001b[2K\u001b[36A\u001b[2K\u001b[36A\u001b[2K\u001b[36A\u001b[2K\u001b[36A\u001b[2K\u001b[36A\u001b[2K\u001b[36A\u001b[2K\u001b[36A\u001b[2K\u001b[36A\u001b[2K\u001b[36A\u001b[2K\u001b[36A\u001b[2K\u001b[36A\u001b[2K\u001b[36A\u001b[2K\u001b[36A\u001b[2K\u001b[36A\u001b[2K\u001b[36A\u001b[2K\u001b[36A\u001b[2K\u001b[36A\u001b[2K\u001b[36A\u001b[2K\u001b[36A\u001b[2K\u001b[36A\u001b[2K\u001b[36A\u001b[2K\u001b[36A\u001b[2K\u001b[36A\u001b[2K\u001b[36A\u001b[2K\u001b[36A\u001b[2K\u001b[36A\u001b[2K\u001b[36A\u001b[2K\u001b[36A\u001b[2K\u001b[36A\u001b[2K\u001b[36A\u001b[2K\u001b[36A\u001b[2K\u001b[36A\u001b[2K\u001b[36A\u001b[2K\u001b[36A\u001b[2K\u001b[36A\u001b[2K\u001b[36A\u001b[2K\u001b[36A\u001b[2K\u001b[36A\u001b[2K\u001b[36A\u001b[2K\u001b[36A\u001b[2K\u001b[36A\u001b[2K\u001b[36A\u001b[2K\u001b[36A\u001b[2K\u001b[36A\u001b[2K\u001b[36A\u001b[2K\u001b[36A\u001b[2K\u001b[36A\u001b[2K\u001b[36A\u001b[2K\u001b[36A\u001b[2K\u001b[36A\u001b[2Klatest: digest: sha256:eb97966186667cb285d9415f51a58b12ca462914bbea68bc25cc375f7e60268d size: 7885\n"
     ]
    }
   ],
   "source": [
    "!./build_and_push.sh"
   ]
  },
  {
   "cell_type": "code",
   "execution_count": 41,
   "id": "3619c3fd",
   "metadata": {},
   "outputs": [
    {
     "data": {
      "text/plain": [
       "'230755935769.dkr.ecr.us-west-2.amazonaws.com/informer'"
      ]
     },
     "execution_count": 41,
     "metadata": {},
     "output_type": "execute_result"
    }
   ],
   "source": [
    "image_uri=f\"{account_id}.dkr.ecr.{my_region}.amazonaws.com/{algorithm_name}\"\n",
    "image_uri"
   ]
  },
  {
   "cell_type": "code",
   "execution_count": 3,
   "id": "12090834",
   "metadata": {},
   "outputs": [
    {
     "name": "stdout",
     "output_type": "stream",
     "text": [
      "Cloning into 'ETDataset'...\n",
      "remote: Enumerating objects: 187, done.\u001b[K\n",
      "remote: Counting objects: 100% (187/187), done.\u001b[K\n",
      "remote: Compressing objects: 100% (184/184), done.\u001b[K\n",
      "remote: Total 187 (delta 66), reused 13 (delta 2), pack-reused 0\u001b[K\n",
      "Receiving objects: 100% (187/187), 3.85 MiB | 10.36 MiB/s, done.\n",
      "Resolving deltas: 100% (66/66), done.\n"
     ]
    }
   ],
   "source": [
    "!git clone https://github.com/zhouhaoyi/ETDataset.git "
   ]
  },
  {
   "cell_type": "code",
   "execution_count": 4,
   "id": "b096051b",
   "metadata": {},
   "outputs": [],
   "source": [
    "!mkdir -p input\n",
    "!mkdir -p input/data\n",
    "!mkdir -p input/data/training\n",
    "!mv ETDataset/ETT-small/*.csv input/data/training/\n"
   ]
  },
  {
   "cell_type": "code",
   "execution_count": 42,
   "id": "3bf2a68f",
   "metadata": {},
   "outputs": [],
   "source": [
    "import sagemaker \n",
    "from sagemaker import get_execution_role\n",
    "session = sagemaker.session.Session()\n",
    "bucket = session.default_bucket()\n",
    "role = get_execution_role()"
   ]
  },
  {
   "cell_type": "code",
   "execution_count": 43,
   "id": "1d893a11",
   "metadata": {},
   "outputs": [
    {
     "data": {
      "text/plain": [
       "'s3://sagemaker-us-west-2-230755935769/data/ETH'"
      ]
     },
     "execution_count": 43,
     "metadata": {},
     "output_type": "execute_result"
    }
   ],
   "source": [
    "s3_path = f\"s3://{bucket}/data/ETH\"\n",
    "s3_path"
   ]
  },
  {
   "cell_type": "code",
   "execution_count": 44,
   "id": "e82b7a75",
   "metadata": {},
   "outputs": [
    {
     "name": "stdout",
     "output_type": "stream",
     "text": [
      "upload: input/data/training/ETTh2.csv to s3://sagemaker-us-west-2-230755935769/data/ETH/ETTh2.csv\n",
      "upload: input/data/training/ETTh1.csv to s3://sagemaker-us-west-2-230755935769/data/ETH/ETTh1.csv\n",
      "upload: input/data/training/ETTm2.csv to s3://sagemaker-us-west-2-230755935769/data/ETH/ETTm2.csv\n",
      "upload: input/data/training/ETTm1.csv to s3://sagemaker-us-west-2-230755935769/data/ETH/ETTm1.csv\n"
     ]
    }
   ],
   "source": [
    "!aws s3 cp --recursive ./input/data/training/ $s3_path"
   ]
  },
  {
   "cell_type": "code",
   "execution_count": 45,
   "id": "2ed3af3a",
   "metadata": {},
   "outputs": [
    {
     "data": {
      "text/plain": [
       "'informer-1623914874'"
      ]
     },
     "execution_count": 45,
     "metadata": {},
     "output_type": "execute_result"
    }
   ],
   "source": [
    "from datetime import datetime\n",
    "now = datetime.now()\n",
    "timestamp = datetime.timestamp(now)\n",
    "job_name = \"informer-{}\".format(str(int(timestamp))) \n",
    "job_name"
   ]
  },
  {
   "cell_type": "code",
   "execution_count": 46,
   "id": "d7c4a763",
   "metadata": {},
   "outputs": [
    {
     "name": "stdout",
     "output_type": "stream",
     "text": [
      "<sagemaker.session.Session object at 0x7f7db188e550>\n"
     ]
    }
   ],
   "source": [
    "mode = 'remote'\n",
    "if mode == 'local':\n",
    "    csess = sagemaker.local.LocalSession()\n",
    "else:    \n",
    "    csess = session\n",
    "\n",
    "print(csess)\n",
    "estimator = sagemaker.estimator.Estimator( \n",
    "                        role=role,\n",
    "                        image_uri=image_uri,\n",
    "                        instance_count=1,\n",
    "#                         instance_type='local_gpu',\n",
    "                        instance_type='ml.p2.xlarge',\n",
    "                        sagemaker_session=csess,\n",
    "                        volume_size=100, \n",
    "                        debugger_hook_config=False\n",
    "                   )"
   ]
  },
  {
   "cell_type": "code",
   "execution_count": 47,
   "id": "610846b9",
   "metadata": {},
   "outputs": [
    {
     "name": "stdout",
     "output_type": "stream",
     "text": [
      "2021-06-17 07:27:58 Starting - Starting the training job...\n",
      "2021-06-17 07:28:27 Starting - Launching requested ML instancesProfilerReport-1623914878: InProgress\n",
      "......\n",
      "2021-06-17 07:29:27 Starting - Preparing the instances for training.........\n",
      "2021-06-17 07:30:54 Downloading - Downloading input data\n",
      "2021-06-17 07:30:54 Training - Downloading the training image...................................\u001b[34m{'model': 'informer', 'data': 'ETTh1', 'root_path': './data/ETT/', 'data_path': 'ETTh1.csv', 'features': 'M', 'target': 'OT', 'freq': 'h', 'seq_len': 96, 'label_len': 48, 'pred_len': 24, 'enc_in': 7, 'dec_in': 7, 'c_out': 7, 'd_model': 512, 'n_heads': 8, 'e_layers': 2, 'd_layers': 1, 'd_ff': 2048, 'factor': 5, 'distil': True, 'dropout': 0.05, 'attn': 'prob', 'embed': 'timeF', 'activation': 'gelu', 'output_attention': False, 'num_workers': 0, 'itr': 2, 'train_epochs': 6, 'batch_size': 32, 'patience': 3, 'learning_rate': 0.0001, 'des': 'test', 'loss': 'mse', 'lradj': 'type1', 'use_gpu': True, 'gpu': 0}\u001b[0m\n",
      "\u001b[34mArgs in experiment:\u001b[0m\n",
      "\u001b[34mnamespace(activation='gelu', attn='prob', batch_size=32, c_out=7, d_ff=2048, d_layers=1, d_model=512, data='ETTh1', data_path='ETTh1.csv', dec_in=7, des='test', distil=True, dropout=0.05, e_layers=2, embed='timeF', enc_in=7, factor=5, features='M', freq='h', gpu=0, itr=2, label_len=48, learning_rate=0.0001, loss='mse', lradj='type1', model='informer', n_heads=8, num_workers=0, output_attention=False, patience=3, pred_len=24, root_path='/opt/ml/input/data/training/', seq_len=96, target='OT', train_epochs=6, use_gpu=True)\u001b[0m\n",
      "\u001b[34mUse GPU: cuda:0\u001b[0m\n",
      "\u001b[34m>>>>>>>start training : informer_ETTh1_ftM_sl96_ll48_pl24_dm512_nh8_el2_dl1_df2048_atprob_fc5_ebtimeF_dtTrue_test_0>>>>>>>>>>>>>>>>>>>>>>>>>>\u001b[0m\n",
      "\u001b[34mtrain 8521\u001b[0m\n",
      "\u001b[34mval 2857\u001b[0m\n",
      "\u001b[34mtest 2857\u001b[0m\n",
      "\u001b[34m[2021-06-17 07:36:46.706 ip-10-0-234-169.us-west-2.compute.internal:1 INFO utils.py:27] RULE_JOB_STOP_SIGNAL_FILENAME: None\u001b[0m\n",
      "\u001b[34m[2021-06-17 07:36:46.861 ip-10-0-234-169.us-west-2.compute.internal:1 INFO profiler_config_parser.py:102] User has disabled profiler.\u001b[0m\n",
      "\n",
      "2021-06-17 07:36:49 Training - Training image download completed. Training in progress.\u001b[34m#011iters: 100, epoch: 1 | loss: 0.3667033\u001b[0m\n",
      "\u001b[34m#011speed: 1.0479s/iter; left time: 1568.6928s\u001b[0m\n",
      "\u001b[34m#011iters: 200, epoch: 1 | loss: 0.3596030\u001b[0m\n",
      "\u001b[34m#011speed: 0.9514s/iter; left time: 1329.1299s\u001b[0m\n",
      "\u001b[34mEpoch: 1, Steps: 266 | Train Loss: 0.3835806 Vali Loss: 0.6021049 Test Loss: 0.5058490\u001b[0m\n",
      "\u001b[34mValidation loss decreased (inf --> 0.602105).  Saving model ...\u001b[0m\n",
      "\u001b[34mUpdating learning rate to 0.0001\u001b[0m\n",
      "\u001b[34m#011iters: 100, epoch: 2 | loss: 0.2121829\u001b[0m\n",
      "\u001b[34m#011speed: 2.5264s/iter; left time: 3110.0514s\u001b[0m\n",
      "\u001b[34m#011iters: 200, epoch: 2 | loss: 0.2392510\u001b[0m\n",
      "\u001b[34m#011speed: 0.9548s/iter; left time: 1079.8507s\u001b[0m\n",
      "\u001b[34mEpoch: 2, Steps: 266 | Train Loss: 0.2557741 Vali Loss: 0.6158438 Test Loss: 0.6781977\u001b[0m\n",
      "\u001b[34mEarlyStopping counter: 1 out of 3\u001b[0m\n",
      "\u001b[34mUpdating learning rate to 5e-05\u001b[0m\n",
      "\u001b[34m#011iters: 100, epoch: 3 | loss: 0.1897328\u001b[0m\n",
      "\u001b[34m#011speed: 2.5133s/iter; left time: 2425.3026s\u001b[0m\n",
      "\u001b[34m#011iters: 200, epoch: 3 | loss: 0.2022228\u001b[0m\n",
      "\u001b[34m#011speed: 0.9519s/iter; left time: 823.3574s\u001b[0m\n",
      "\u001b[34mEpoch: 3, Steps: 266 | Train Loss: 0.2060865 Vali Loss: 0.6311673 Test Loss: 0.6475867\u001b[0m\n",
      "\u001b[34mEarlyStopping counter: 2 out of 3\u001b[0m\n",
      "\u001b[34mUpdating learning rate to 2.5e-05\u001b[0m\n",
      "\u001b[34m#011iters: 100, epoch: 4 | loss: 0.1623644\u001b[0m\n",
      "\u001b[34m#011speed: 2.5244s/iter; left time: 1764.5654s\u001b[0m\n",
      "\u001b[34m#011iters: 200, epoch: 4 | loss: 0.1624956\u001b[0m\n",
      "\u001b[34m#011speed: 0.9543s/iter; left time: 571.6273s\u001b[0m\n",
      "\u001b[34mEpoch: 4, Steps: 266 | Train Loss: 0.1804779 Vali Loss: 0.6562291 Test Loss: 0.6454560\u001b[0m\n",
      "\u001b[34mEarlyStopping counter: 3 out of 3\u001b[0m\n",
      "\u001b[34mEarly stopping\u001b[0m\n",
      "\u001b[34m>>>>>>>testing : informer_ETTh1_ftM_sl96_ll48_pl24_dm512_nh8_el2_dl1_df2048_atprob_fc5_ebtimeF_dtTrue_test_0<<<<<<<<<<<<<<<<<<<<<<<<<<<<<<<<<\u001b[0m\n",
      "\u001b[34mtest 2857\u001b[0m\n",
      "\u001b[34mtest shape: (89, 32, 24, 7) (89, 32, 24, 7)\u001b[0m\n",
      "\u001b[34mtest shape: (2848, 24, 7) (2848, 24, 7)\u001b[0m\n",
      "\u001b[34mmse:0.5056378346579747, mae:0.5222034166827351\u001b[0m\n",
      "\u001b[34mUse GPU: cuda:0\u001b[0m\n",
      "\u001b[34m>>>>>>>start training : informer_ETTh1_ftM_sl96_ll48_pl24_dm512_nh8_el2_dl1_df2048_atprob_fc5_ebtimeF_dtTrue_test_1>>>>>>>>>>>>>>>>>>>>>>>>>>\u001b[0m\n",
      "\u001b[34mtrain 8521\u001b[0m\n",
      "\u001b[34mval 2857\u001b[0m\n",
      "\u001b[34mtest 2857\u001b[0m\n",
      "\u001b[34m#011iters: 100, epoch: 1 | loss: 0.3666600\u001b[0m\n",
      "\u001b[34m#011speed: 0.9455s/iter; left time: 1415.4718s\u001b[0m\n",
      "\u001b[34m#011iters: 200, epoch: 1 | loss: 0.3190683\u001b[0m\n",
      "\u001b[34m#011speed: 0.9468s/iter; left time: 1322.7156s\u001b[0m\n",
      "\u001b[34mEpoch: 1, Steps: 266 | Train Loss: 0.3866838 Vali Loss: 0.6613670 Test Loss: 0.5365952\u001b[0m\n",
      "\u001b[34mValidation loss decreased (inf --> 0.661367).  Saving model ...\u001b[0m\n",
      "\u001b[34mUpdating learning rate to 0.0001\u001b[0m\n",
      "\u001b[34m#011iters: 100, epoch: 2 | loss: 0.2573556\u001b[0m\n",
      "\u001b[34m#011speed: 2.5200s/iter; left time: 3102.1545s\u001b[0m\n",
      "\u001b[34m#011iters: 200, epoch: 2 | loss: 0.2107790\u001b[0m\n",
      "\u001b[34m#011speed: 0.9545s/iter; left time: 1079.5191s\u001b[0m\n",
      "\u001b[34mEpoch: 2, Steps: 266 | Train Loss: 0.2576710 Vali Loss: 0.6478251 Test Loss: 0.5230394\u001b[0m\n",
      "\u001b[34mValidation loss decreased (0.661367 --> 0.647825).  Saving model ...\u001b[0m\n",
      "\u001b[34mUpdating learning rate to 5e-05\u001b[0m\n",
      "\u001b[34m#011iters: 100, epoch: 3 | loss: 0.1944291\u001b[0m\n",
      "\u001b[34m#011speed: 2.5176s/iter; left time: 2429.4823s\u001b[0m\n",
      "\u001b[34m#011iters: 200, epoch: 3 | loss: 0.1935359\u001b[0m\n",
      "\u001b[34m#011speed: 0.9487s/iter; left time: 820.6104s\u001b[0m\n",
      "\u001b[34mEpoch: 3, Steps: 266 | Train Loss: 0.2034307 Vali Loss: 0.6431264 Test Loss: 0.4813840\u001b[0m\n",
      "\u001b[34mValidation loss decreased (0.647825 --> 0.643126).  Saving model ...\u001b[0m\n",
      "\u001b[34mUpdating learning rate to 2.5e-05\u001b[0m\n",
      "\u001b[34m#011iters: 100, epoch: 4 | loss: 0.2203142\u001b[0m\n",
      "\u001b[34m#011speed: 2.5258s/iter; left time: 1765.5576s\u001b[0m\n",
      "\u001b[34m#011iters: 200, epoch: 4 | loss: 0.1556712\u001b[0m\n",
      "\u001b[34m#011speed: 0.9533s/iter; left time: 571.0278s\u001b[0m\n",
      "\u001b[34mEpoch: 4, Steps: 266 | Train Loss: 0.1784996 Vali Loss: 0.6681840 Test Loss: 0.5631026\u001b[0m\n",
      "\u001b[34mEarlyStopping counter: 1 out of 3\u001b[0m\n",
      "\u001b[34mUpdating learning rate to 1.25e-05\u001b[0m\n",
      "\u001b[34m#011iters: 100, epoch: 5 | loss: 0.1606970\u001b[0m\n",
      "\u001b[34m#011speed: 2.5078s/iter; left time: 1085.8806s\u001b[0m\n",
      "\u001b[34m#011iters: 200, epoch: 5 | loss: 0.1449691\u001b[0m\n",
      "\u001b[34m#011speed: 0.9532s/iter; left time: 317.4082s\u001b[0m\n",
      "\u001b[34mEpoch: 5, Steps: 266 | Train Loss: 0.1644985 Vali Loss: 0.6979673 Test Loss: 0.5652549\u001b[0m\n",
      "\u001b[34mEarlyStopping counter: 2 out of 3\u001b[0m\n",
      "\u001b[34mUpdating learning rate to 6.25e-06\u001b[0m\n",
      "\u001b[34m#011iters: 100, epoch: 6 | loss: 0.1672932\u001b[0m\n",
      "\u001b[34m#011speed: 2.5234s/iter; left time: 421.4131s\u001b[0m\n",
      "\u001b[34m#011iters: 200, epoch: 6 | loss: 0.1197038\u001b[0m\n",
      "\u001b[34m#011speed: 0.9548s/iter; left time: 63.9711s\u001b[0m\n",
      "\u001b[34mEpoch: 6, Steps: 266 | Train Loss: 0.1576794 Vali Loss: 0.6960600 Test Loss: 0.5645413\u001b[0m\n",
      "\u001b[34mEarlyStopping counter: 3 out of 3\u001b[0m\n",
      "\u001b[34mEarly stopping\u001b[0m\n",
      "\u001b[34m>>>>>>>testing : informer_ETTh1_ftM_sl96_ll48_pl24_dm512_nh8_el2_dl1_df2048_atprob_fc5_ebtimeF_dtTrue_test_1<<<<<<<<<<<<<<<<<<<<<<<<<<<<<<<<<\u001b[0m\n",
      "\u001b[34mtest 2857\u001b[0m\n",
      "\u001b[34mtest shape: (89, 32, 24, 7) (89, 32, 24, 7)\u001b[0m\n",
      "\u001b[34mtest shape: (2848, 24, 7) (2848, 24, 7)\u001b[0m\n",
      "\u001b[34mmse:0.4826626176946583, mae:0.4925764676583719\u001b[0m\n",
      "\n",
      "2021-06-17 08:37:43 Uploading - Uploading generated training model\n",
      "2021-06-17 08:37:43 Completed - Training job completed\n",
      "ProfilerReport-1623914878: IssuesFound\n",
      "Training seconds: 4015\n",
      "Billable seconds: 4015\n"
     ]
    }
   ],
   "source": [
    "estimator.fit(inputs={\"training\":s3_path}, job_name=job_name)"
   ]
  },
  {
   "cell_type": "code",
   "execution_count": null,
   "id": "9aeca22f",
   "metadata": {},
   "outputs": [],
   "source": []
  }
 ],
 "metadata": {
  "kernelspec": {
   "display_name": "conda_python3",
   "language": "python",
   "name": "conda_python3"
  },
  "language_info": {
   "codemirror_mode": {
    "name": "ipython",
    "version": 3
   },
   "file_extension": ".py",
   "mimetype": "text/x-python",
   "name": "python",
   "nbconvert_exporter": "python",
   "pygments_lexer": "ipython3",
   "version": "3.6.13"
  }
 },
 "nbformat": 4,
 "nbformat_minor": 5
}
