{
 "cells": [
  {
   "cell_type": "code",
   "execution_count": 19,
   "id": "07b7970d",
   "metadata": {},
   "outputs": [],
   "source": [
    "import boto3 \n",
    "\n",
    "my_session = boto3.session.Session()\n",
    "my_region = my_session.region_name\n",
    "client = boto3.client(\"sts\")\n",
    "account_id = client.get_caller_identity()[\"Account\"]\n",
    "algorithm_name = \"informer\""
   ]
  },
  {
   "cell_type": "code",
   "execution_count": 25,
   "id": "2c7e6c8d",
   "metadata": {},
   "outputs": [
    {
     "name": "stdout",
     "output_type": "stream",
     "text": [
      "230755935769\n",
      "us-west-2\n",
      "WARNING! Using --password via the CLI is insecure. Use --password-stdin.\n",
      "WARNING! Your password will be stored unencrypted in /home/ec2-user/.docker/config.json.\n",
      "Configure a credential helper to remove this warning. See\n",
      "https://docs.docker.com/engine/reference/commandline/login/#credentials-store\n",
      "\n",
      "Login Succeeded\n",
      "WARNING! Using --password via the CLI is insecure. Use --password-stdin.\n",
      "WARNING! Your password will be stored unencrypted in /home/ec2-user/.docker/config.json.\n",
      "Configure a credential helper to remove this warning. See\n",
      "https://docs.docker.com/engine/reference/commandline/login/#credentials-store\n",
      "\n",
      "Login Succeeded\n",
      "base_img:763104351884.dkr.ecr.us-west-2.amazonaws.com/pytorch-training:1.7.1-gpu-py36-cu110-ubuntu18.04\n",
      "Sending build context to Docker daemon  387.2MB\n",
      "Step 1/7 : ARG BASE_IMG=${BASE_IMG}\n",
      "Step 2/7 : FROM ${BASE_IMG}\n",
      " ---> 910c070760f2\n",
      "Step 3/7 : ENV PATH=\"/opt/ml/code:${PATH}\"\n",
      " ---> Using cache\n",
      " ---> cb5f3a41a0eb\n",
      "Step 4/7 : WORKDIR /opt/program\n",
      " ---> Using cache\n",
      " ---> 38c6ec3a2aed\n",
      "Step 5/7 : RUN cp /changehostname.c /opt/program/\n",
      " ---> Using cache\n",
      " ---> 8740cab341b6\n",
      "Step 6/7 : COPY . /opt/program/\n",
      "Error processing tar file(exit status 1): write /opt/program/results/informer_ETTm1_ftM_sl96_ll48_pl24_dm512_nh8_el2_dl1_df2048_atprob_fc5_ebtimeF_dtTrue_test_0/pred.npy: no space left on device\n",
      "The push refers to repository [230755935769.dkr.ecr.us-west-2.amazonaws.com/informer]\n",
      "\n",
      "\u001b[1B0dcb80f0: Preparing \n",
      "\u001b[1B5b6df3c3: Preparing \n",
      "\u001b[1Bbee6068e: Preparing \n",
      "\u001b[1B426c5cb3: Preparing \n",
      "\u001b[1Be81c04ac: Preparing \n",
      "\u001b[1Baa20b119: Preparing \n",
      "\u001b[1B62d7b191: Preparing \n",
      "\u001b[1B621c0763: Preparing \n",
      "\u001b[1B55e0088c: Preparing \n",
      "\u001b[1Bf702dd6c: Preparing \n",
      "\u001b[1B4f900f31: Preparing \n",
      "\u001b[1Bb1eec580: Preparing \n",
      "\u001b[1B1d1bff9f: Preparing \n",
      "\u001b[1B4e98599b: Preparing \n",
      "\u001b[1B355c3b7e: Preparing \n",
      "\u001b[1B1a00d0a6: Preparing \n",
      "\u001b[8Bf702dd6c: Waiting g \n",
      "\u001b[8B4f900f31: Waiting g \n",
      "\u001b[14Ba20b119: Waiting g \n",
      "\u001b[9Bb1eec580: Waiting g \n",
      "\u001b[1B306d4955: Preparing \n",
      "\u001b[1B1bae5d0c: Preparing \n",
      "\u001b[15B5e0088c: Waiting g \n",
      "\u001b[17B21c0763: Waiting g \n",
      "\u001b[1B0bcc6897: Preparing \n",
      "\u001b[1Bcdf6d5f2: Preparing \n",
      "\u001b[13B55c3b7e: Waiting g \n",
      "\u001b[12B1b6f753: Waiting g \n",
      "\u001b[17Bd1bff9f: Waiting g \n",
      "\u001b[13B1ff6420: Waiting g \n",
      "\u001b[1B4dce1444: Preparing \n",
      "\u001b[12B06d4955: Waiting g \n",
      "\u001b[15Ba030441: Waiting g \n",
      "\u001b[15Bf52b878: Waiting g \n",
      "\u001b[1Bdf553184: Preparing \n",
      "\u001b[1B02706667: Layer already exists \u001b[31A\u001b[2K\u001b[28A\u001b[2K\u001b[22A\u001b[2K\u001b[19A\u001b[2K\u001b[14A\u001b[2K\u001b[9A\u001b[2K\u001b[3A\u001b[2Klatest: digest: sha256:2bfc4c86f368a16891be524679910bda5ecfe2452270c3a1a3b4955a4665c5a7 size: 7885\n"
     ]
    }
   ],
   "source": [
    "!./build_and_push.sh"
   ]
  },
  {
   "cell_type": "code",
   "execution_count": 22,
   "id": "6cd65e15",
   "metadata": {},
   "outputs": [
    {
     "data": {
      "text/plain": [
       "'230755935769.dkr.ecr.us-west-2.amazonaws.com/informer'"
      ]
     },
     "execution_count": 22,
     "metadata": {},
     "output_type": "execute_result"
    }
   ],
   "source": [
    "image_uri=f\"{account_id}.dkr.ecr.{my_region}.amazonaws.com/{algorithm_name}\"\n",
    "image_uri"
   ]
  },
  {
   "cell_type": "code",
   "execution_count": 3,
   "id": "49107212",
   "metadata": {},
   "outputs": [
    {
     "name": "stdout",
     "output_type": "stream",
     "text": [
      "Cloning into 'ETDataset'...\n",
      "remote: Enumerating objects: 187, done.\u001b[K\n",
      "remote: Counting objects: 100% (187/187), done.\u001b[K\n",
      "remote: Compressing objects: 100% (184/184), done.\u001b[K\n",
      "remote: Total 187 (delta 66), reused 13 (delta 2), pack-reused 0\u001b[K\n",
      "Receiving objects: 100% (187/187), 3.85 MiB | 10.36 MiB/s, done.\n",
      "Resolving deltas: 100% (66/66), done.\n"
     ]
    }
   ],
   "source": [
    "!git clone https://github.com/zhouhaoyi/ETDataset.git "
   ]
  },
  {
   "cell_type": "code",
   "execution_count": 4,
   "id": "0ba3785d",
   "metadata": {},
   "outputs": [],
   "source": [
    "!mkdir -p input\n",
    "!mkdir -p input/data\n",
    "!mkdir -p input/data/training\n",
    "!mv ETDataset/ETT-small/*.csv input/data/training/\n"
   ]
  },
  {
   "cell_type": "code",
   "execution_count": 11,
   "id": "69dee8f5",
   "metadata": {},
   "outputs": [],
   "source": [
    "import sagemaker \n",
    "from sagemaker import get_execution_role\n",
    "session = sagemaker.session.Session()\n",
    "bucket = session.default_bucket()\n",
    "role = get_execution_role()"
   ]
  },
  {
   "cell_type": "code",
   "execution_count": 12,
   "id": "d7762dab",
   "metadata": {},
   "outputs": [
    {
     "data": {
      "text/plain": [
       "'s3://sagemaker-us-west-2-230755935769/data/ETH'"
      ]
     },
     "execution_count": 12,
     "metadata": {},
     "output_type": "execute_result"
    }
   ],
   "source": [
    "s3_path = f\"s3://{bucket}/data/ETH\"\n",
    "s3_path"
   ]
  },
  {
   "cell_type": "code",
   "execution_count": 13,
   "id": "d7b8c194",
   "metadata": {},
   "outputs": [
    {
     "name": "stdout",
     "output_type": "stream",
     "text": [
      "upload: input/data/training/ETTh2.csv to s3://sagemaker-us-west-2-230755935769/data/ETH/ETTh2.csv\n",
      "upload: input/data/training/ETTh1.csv to s3://sagemaker-us-west-2-230755935769/data/ETH/ETTh1.csv\n",
      "upload: input/data/training/ETTm2.csv to s3://sagemaker-us-west-2-230755935769/data/ETH/ETTm2.csv\n",
      "upload: input/data/training/ETTm1.csv to s3://sagemaker-us-west-2-230755935769/data/ETH/ETTm1.csv\n"
     ]
    }
   ],
   "source": [
    "!aws s3 cp --recursive ./input/data/training/ $s3_path"
   ]
  },
  {
   "cell_type": "code",
   "execution_count": 27,
   "id": "e08bca21",
   "metadata": {},
   "outputs": [
    {
     "data": {
      "text/plain": [
       "'informer-1623909955'"
      ]
     },
     "execution_count": 27,
     "metadata": {},
     "output_type": "execute_result"
    }
   ],
   "source": [
    "from datetime import datetime\n",
    "now = datetime.now()\n",
    "timestamp = datetime.timestamp(now)\n",
    "job_name = \"informer-{}\".format(str(int(timestamp))) \n",
    "job_name"
   ]
  },
  {
   "cell_type": "code",
   "execution_count": 28,
   "id": "dd811178",
   "metadata": {},
   "outputs": [
    {
     "name": "stdout",
     "output_type": "stream",
     "text": [
      "<sagemaker.session.Session object at 0x7f7db1f51fd0>\n"
     ]
    }
   ],
   "source": [
    "mode = 'remote'\n",
    "if mode == 'local':\n",
    "    csess = sagemaker.local.LocalSession()\n",
    "else:    \n",
    "    csess = session\n",
    "\n",
    "print(csess)\n",
    "estimator = sagemaker.estimator.Estimator( \n",
    "                        role=role,\n",
    "                        image_uri=image_uri,\n",
    "                        instance_count=1,\n",
    "#                         instance_type='local_gpu',\n",
    "                        instance_type='ml.p2.xlarge',\n",
    "                        sagemaker_session=csess,\n",
    "                        volume_size=100, \n",
    "                        debugger_hook_config=False\n",
    "                   )"
   ]
  },
  {
   "cell_type": "code",
   "execution_count": null,
   "id": "5a714779",
   "metadata": {},
   "outputs": [
    {
     "name": "stdout",
     "output_type": "stream",
     "text": [
      "2021-06-17 06:05:57 Starting - Starting the training job...\n",
      "2021-06-17 06:06:21 Starting - Launching requested ML instancesProfilerReport-1623909957: InProgress\n",
      "......\n",
      "2021-06-17 06:07:21 Starting - Preparing the instances for training.........\n",
      "2021-06-17 06:08:44 Downloading - Downloading input data\n",
      "2021-06-17 06:08:44 Training - Downloading the training image............................"
     ]
    }
   ],
   "source": [
    "estimator.fit(inputs={\"training\":s3_path}, job_name=job_name)"
   ]
  },
  {
   "cell_type": "code",
   "execution_count": null,
   "id": "9c719116",
   "metadata": {},
   "outputs": [],
   "source": []
  }
 ],
 "metadata": {
  "kernelspec": {
   "display_name": "conda_python3",
   "language": "python",
   "name": "conda_python3"
  },
  "language_info": {
   "codemirror_mode": {
    "name": "ipython",
    "version": 3
   },
   "file_extension": ".py",
   "mimetype": "text/x-python",
   "name": "python",
   "nbconvert_exporter": "python",
   "pygments_lexer": "ipython3",
   "version": "3.6.13"
  }
 },
 "nbformat": 4,
 "nbformat_minor": 5
}
